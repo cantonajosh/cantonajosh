{
 "cells": [
  {
   "cell_type": "markdown",
   "id": "9a9f2bc8-a4fb-475e-b14f-f3336e6beff3",
   "metadata": {},
   "source": [
    "# STEP 1: INSTALLING REQUESTS LIBRARIES"
   ]
  },
  {
   "cell_type": "code",
   "execution_count": 25,
   "id": "6cbd63a9-1c12-4981-a29a-2ec3ed4ac3a4",
   "metadata": {},
   "outputs": [
    {
     "name": "stdout",
     "output_type": "stream",
     "text": [
      "Requirement already satisfied: requests in c:\\users\\tdh it\\anaconda3\\lib\\site-packages (2.32.3)\n",
      "Requirement already satisfied: charset-normalizer<4,>=2 in c:\\users\\tdh it\\anaconda3\\lib\\site-packages (from requests) (3.3.2)\n",
      "Requirement already satisfied: idna<4,>=2.5 in c:\\users\\tdh it\\anaconda3\\lib\\site-packages (from requests) (3.7)\n",
      "Requirement already satisfied: urllib3<3,>=1.21.1 in c:\\users\\tdh it\\anaconda3\\lib\\site-packages (from requests) (2.2.3)\n",
      "Requirement already satisfied: certifi>=2017.4.17 in c:\\users\\tdh it\\anaconda3\\lib\\site-packages (from requests) (2025.1.31)\n"
     ]
    }
   ],
   "source": [
    "!pip install requests"
   ]
  },
  {
   "cell_type": "markdown",
   "id": "05c1bce8-309e-43ac-a8b3-c60584b8afda",
   "metadata": {},
   "source": [
    "# STEP 2: INSTALLING ASSEMBLY AI AND ENDPOINTS "
   ]
  },
  {
   "cell_type": "code",
   "execution_count": 27,
   "id": "e29059c1-578f-4357-95cb-d73b8522733b",
   "metadata": {},
   "outputs": [],
   "source": [
    "import requests\n",
    "import time\n",
    "\n",
    "# Replace with your AssemblyAI API key\n",
    "API_KEY = 'a49e7c835a2b40d18c8ec7eb9da8f8e1'\n",
    "HEADERS = {\n",
    "    'authorization': API_KEY,\n",
    "    'content-type': 'application/json'\n",
    "}\n",
    "UPLOAD_ENDPOINT = 'https://api.assemblyai.com/v2/upload'\n",
    "TRANSCRIPT_ENDPOINT = 'https://api.assemblyai.com/v2/transcript'"
   ]
  },
  {
   "cell_type": "markdown",
   "id": "fe6240b0-16c9-4685-9a58-dcdc07d415ce",
   "metadata": {},
   "source": [
    "# STEP 3: Function to Upload Audio File"
   ]
  },
  {
   "cell_type": "code",
   "execution_count": 29,
   "id": "bc4dca97-6997-4dda-a845-a4ddcdceec71",
   "metadata": {},
   "outputs": [],
   "source": [
    "def upload_audio_file(file_path):\n",
    "    def read_file(file_path, chunk_size=5242880):\n",
    "        with open(file_path, 'rb') as _file:\n",
    "            while True:\n",
    "                data = _file.read(chunk_size)\n",
    "                if not data:\n",
    "                    break\n",
    "                yield data\n",
    "\n",
    "    response = requests.post(\n",
    "        UPLOAD_ENDPOINT,\n",
    "        headers=HEADERS,\n",
    "        data=read_file(file_path)\n",
    "    )\n",
    "    return response.json()['upload_url']"
   ]
  },
  {
   "cell_type": "markdown",
   "id": "150fab99-87ea-4fe0-97f8-5e0bb37c0d4c",
   "metadata": {},
   "source": [
    "# STEP 4: Function to Transcribe Audio"
   ]
  },
  {
   "cell_type": "code",
   "execution_count": 31,
   "id": "5d03ca68-d446-4c6a-b417-1a4aa8c1ef75",
   "metadata": {},
   "outputs": [],
   "source": [
    "def transcribe_audio(audio_url):\n",
    "    json = {\n",
    "        'audio_url': audio_url\n",
    "    }\n",
    "    response = requests.post(TRANSCRIPT_ENDPOINT, json=json, headers=HEADERS)\n",
    "    return response.json()['id']"
   ]
  },
  {
   "cell_type": "markdown",
   "id": "d52b4240-7db2-4586-a4d8-dfb9e10bd243",
   "metadata": {},
   "source": [
    "# STEP 5:Function to Poll for Transcription Result"
   ]
  },
  {
   "cell_type": "code",
   "execution_count": 33,
   "id": "dff9b557-75f0-4e87-b35f-cbfc6d2a080c",
   "metadata": {},
   "outputs": [],
   "source": [
    "def poll_transcription_result(transcription_id):\n",
    "    while True:\n",
    "        response = requests.get(f'{TRANSCRIPT_ENDPOINT}/{transcription_id}', headers=HEADERS)\n",
    "        result = response.json()\n",
    "        if result['status'] == 'completed':\n",
    "            return result['text']\n",
    "        elif result['status'] == 'error':\n",
    "            return 'Error in transcription'\n",
    "        time.sleep(5)"
   ]
  },
  {
   "cell_type": "markdown",
   "id": "339a7761-cf9c-4a97-9002-8bdd225f8cd2",
   "metadata": {},
   "source": [
    "# STEP 6:Main Function to Transcribe Audio File"
   ]
  },
  {
   "cell_type": "code",
   "execution_count": 35,
   "id": "4fd07a3e-2e7b-46be-956e-22be7934c989",
   "metadata": {},
   "outputs": [],
   "source": [
    "def transcribe_file(file_path_or_url):\n",
    "    if file_path_or_url.startswith('http'):\n",
    "        # If it's a URL, use it directly\n",
    "        audio_url = file_path_or_url\n",
    "    else:\n",
    "        # If it's a local file, upload it first\n",
    "        audio_url = upload_audio_file(file_path_or_url)\n",
    "    \n",
    "    transcription_id = transcribe_audio(audio_url)\n",
    "    transcription_text = poll_transcription_result(transcription_id)\n",
    "    return transcription_text"
   ]
  },
  {
   "cell_type": "markdown",
   "id": "b8e146cd-32ac-439e-9621-cedcbef914e4",
   "metadata": {},
   "source": [
    "# STEP 7: TRANSCRIPTION AND SAVING TEXT FILE "
   ]
  },
  {
   "cell_type": "code",
   "execution_count": 37,
   "id": "6499a503-706a-4a60-bfc8-7ff7f4530b50",
   "metadata": {
    "scrolled": true
   },
   "outputs": [
    {
     "name": "stdout",
     "output_type": "stream",
     "text": [
      "Smoke from hundreds of wildfires in Canada is triggering air quality alerts throughout the US Skylines from Maine to Maryland to Minnesota are gray and smoggy. And in some places, the air quality warnings include the warning to stay inside. We wanted to better understand what's happening here and why, so we called Peter DeCarlo, an associate professor in the Department of Environmental Health and Engineering at Johns Hopkins University. Good morning, Professor. Good morning. So what is it about the conditions right now that have caused this round of wildfires to affect so many people so far away? Well, there's a couple of things. The season has been pretty dry already, and then the fact that we're getting hit in the US is because there's a couple weather systems that are essentially channeling the smoke from those Canadian wildfires through Pennsylvania into the mid Atlantic and the Northeast and kind of just dropping the smoke there. So what is it in this haze that makes it harmful? And I'm assuming it is harmful. It is, it is. The levels outside right now in Baltimore are considered unhealthy. And most of that is due to what's called particulate matter, which are tiny particles, microscopic, smaller than the width of your hair, that can get into your lungs and impact your respiratory system, your cardiovascular system, and even your neurological, your brain. What makes this particularly harmful? Is it the volume of particulate? Is it something in particular? What is it exactly? Can you just drill down on that a little bit more? Yeah. So the concentration of particulate matter, I was looking at some of the monitors that we have was reaching levels of what are, in science speak, 150 micrograms per meter cubed, which is more than 10 times what the annual average should be in about four times higher than what you're supposed to have on a 24 hour average. And so the concentrations of these particles in the air are just much, much, much higher than we typically see. And exposure to those high levels can lead to a host of health problems. And who is most vulnerable? I noticed that in New York City, for example, they're canceling outdoor activities. And so here it is in the early days of summer and they have to keep all the kids inside. So who tends to be vulnerable in a situation like this? It's the youngest. So children, obviously, whose bodies are still developing, the elderly who are, you know, their bodies are more in decline and they're more susceptible to the health impacts of breathing, the poor air quality. And then people who have pre existing health conditions, people with respiratory conditions or heart conditions, can be triggered by high levels of air pollution. Could this get worse? That's a good question. I mean, I think if in some areas it's much worse than others and it just depends on kind of where the smoke is concentrated. I think New York has some of the higher concentrations right now, but that's going to change as that air moves away from the New York area. But over the course of the next few days, we will see different areas being hit at different times with the highest concentrations. I was going to ask you about more fires start burning. I don't expect the concentrations to go up too much higher. I was going to ask you how and you started to answer this, but how much longer could this last? Forgive me if I'm asking you to speculate, but what do you think? Well, I think the fires are going to burn for a little bit longer. But the key for us in the US Is the weather system changing. Right now it's the weather systems that are pulling that air into our Mid Atlantic and Northeast region. As those weather systems change and shift, we'll see that smoke going elsewhere and not impact us in this region as much. I think that's going to be the defining factor. I think the next couple days we're going to see a shift in that weather pattern and start to push the smoke away from where we are. And finally, with the impacts of climate change, we are seeing more wildfires. Will we be seeing more of these kinds of wide ranging air quality consequences or circumstances? I mean, that is one of the predictions for climate change. Looking into the future, the fire season is starting earlier and lasting longer and we're seeing more frequent fires. So yeah, this is probably something that we'll be seeing more, more frequently. This tends to be much more of an issue in the western U.S. so the eastern U.S. getting hit right now is a little bit new. But yeah, I think with climate change moving forward, this is something that is going to happen more frequently. That's Peter DeCarlo, associate professor in the Department of Environmental Health and Engineering at Johns Hopkins University. Professor DeCarlo, thanks so much for joining us and sharing this expertise with us. Thank you for having me.\n"
     ]
    }
   ],
   "source": [
    "file_path_or_url = 'C:\\\\Users\\\\TDH IT\\\\20230607_me_canadian_wildfires.mp3'\n",
    "#'https://assembly.ai/sports_injuries.mp3'# Use a URL\n",
    "# file_path_or_url = 'path_to_your_audio_file.mp3'  # Use a local file\n",
    "\n",
    "transcription = transcribe_file(file_path_or_url)\n",
    "print(transcription)\n",
    "\n",
    "# Save transcription to a file\n",
    "with open('transcription.txt', 'w') as f:\n",
    "    f.write(transcription)"
   ]
  },
  {
   "cell_type": "code",
   "execution_count": null,
   "id": "ded565c0-d1ca-4f2e-92da-3ff6557aa09e",
   "metadata": {},
   "outputs": [],
   "source": []
  }
 ],
 "metadata": {
  "kernelspec": {
   "display_name": "Python [conda env:base] *",
   "language": "python",
   "name": "conda-base-py"
  },
  "language_info": {
   "codemirror_mode": {
    "name": "ipython",
    "version": 3
   },
   "file_extension": ".py",
   "mimetype": "text/x-python",
   "name": "python",
   "nbconvert_exporter": "python",
   "pygments_lexer": "ipython3",
   "version": "3.12.7"
  }
 },
 "nbformat": 4,
 "nbformat_minor": 5
}
